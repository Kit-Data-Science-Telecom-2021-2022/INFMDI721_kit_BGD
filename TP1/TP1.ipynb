{
 "cells": [
  {
   "cell_type": "code",
   "execution_count": null,
   "id": "ce87cf72",
   "metadata": {},
   "outputs": [],
   "source": [
    "#!/usr/bin/python -tt\n",
    "# Copyright 2010 Google Inc.\n",
    "# Licensed under the Apache License, Version 2.0\n",
    "# http://www.apache.org/licenses/LICENSE-2.0\n",
    "\n",
    "# Google's Python Class\n",
    "# http://code.google.com/edu/languages/google-python-class/\n",
    "\n",
    "# Basic string exercises\n",
    "# Fill in the code for the functions below. main() is already set up\n",
    "# to call the functions with a few different inputs,\n",
    "# printing 'OK' when each function is correct.\n",
    "# The starter code for each function includes a 'return'\n",
    "# which is just a placeholder for your code.\n",
    "# It's ok if you do not complete all the functions, and there\n",
    "# are some additional functions to try in string2.py.\n",
    "\n",
    "\n",
    "# A. donuts\n",
    "# Given an int count of a number of donuts, return a string\n",
    "# of the form 'Number of donuts: <count>', where <count> is the number\n",
    "# passed in. However, if the count is 10 or more, then use the word 'many'\n",
    "# instead of the actual count.\n",
    "# So donuts(5) returns 'Number of donuts: 5'\n",
    "# and donuts(23) returns 'Number of donuts: many'"
   ]
  },
  {
   "cell_type": "code",
   "execution_count": 3,
   "id": "c3488748",
   "metadata": {},
   "outputs": [
    {
     "ename": "SyntaxError",
     "evalue": "'return' outside function (244898609.py, line 5)",
     "output_type": "error",
     "traceback": [
      "\u001b[0;36m  File \u001b[0;32m\"/tmp/ipykernel_4612/244898609.py\"\u001b[0;36m, line \u001b[0;32m5\u001b[0m\n\u001b[0;31m    return count\u001b[0m\n\u001b[0m    ^\u001b[0m\n\u001b[0;31mSyntaxError\u001b[0m\u001b[0;31m:\u001b[0m 'return' outside function\n"
     ]
    }
   ],
   "source": [
    "def donuts(count):\n",
    "    if count < 10:\n",
    "        print(\"many\")\n",
    "    else: count=count\n",
    "return count\n",
    "print(\"Number of donuts: count= %d\" %count)"
   ]
  },
  {
   "cell_type": "code",
   "execution_count": 10,
   "id": "51459694",
   "metadata": {},
   "outputs": [],
   "source": [
    "def donuts(count):\n",
    "    if count < 10:\n",
    "        return 'Number of donuts: ' + str(count)\n",
    "    else:\n",
    "        return 'Number of donuts: many'\n",
    "  # LAB(replace solution)\n",
    "  # return\n",
    "  # LAB(end solution)\n"
   ]
  },
  {
   "cell_type": "code",
   "execution_count": 16,
   "id": "033ffd78",
   "metadata": {},
   "outputs": [],
   "source": [
    "def donuts(count):\n",
    "    if count < 10:\n",
    "        return \"Number of donuts: count= %d\" %count\n",
    "    else:\n",
    "        return 'Number of donuts: many'"
   ]
  },
  {
   "cell_type": "code",
   "execution_count": 17,
   "id": "457889b3",
   "metadata": {},
   "outputs": [
    {
     "data": {
      "text/plain": [
       "'Number of donuts: many'"
      ]
     },
     "execution_count": 17,
     "metadata": {},
     "output_type": "execute_result"
    }
   ],
   "source": [
    "donuts(15)"
   ]
  },
  {
   "cell_type": "code",
   "execution_count": 43,
   "id": "fdea78af",
   "metadata": {},
   "outputs": [],
   "source": [
    "# B. both_ends\n",
    "# Given a string s, return a string made of the first 2\n",
    "# and the last 2 chars of the original string,\n",
    "# so 'spring' yields 'spng'. However, if the string length\n",
    "# is less than 2, return instead the empty string.\n",
    "def both_ends(s):\n",
    "    if len(s)<2:\n",
    "        return \"\"\n",
    "    else: \n",
    "        return s[:2]+s[-2:]"
   ]
  },
  {
   "cell_type": "code",
   "execution_count": 44,
   "id": "f2962cac",
   "metadata": {},
   "outputs": [
    {
     "data": {
      "text/plain": [
       "'faat'"
      ]
     },
     "execution_count": 44,
     "metadata": {},
     "output_type": "execute_result"
    }
   ],
   "source": [
    "both_ends(\"fat\")"
   ]
  },
  {
   "cell_type": "code",
   "execution_count": 45,
   "id": "bac661cc",
   "metadata": {},
   "outputs": [
    {
     "data": {
      "text/plain": [
       "'enie'"
      ]
     },
     "execution_count": 45,
     "metadata": {},
     "output_type": "execute_result"
    }
   ],
   "source": [
    "both_ends(\"encyclopedie\")"
   ]
  },
  {
   "cell_type": "code",
   "execution_count": 81,
   "id": "91c34b89",
   "metadata": {},
   "outputs": [],
   "source": [
    "# C. fix_start\n",
    "# Given a string s, return a string\n",
    "# where all occurences of its first char have\n",
    "# been changed to '*', except do not change\n",
    "# the first char itself.\n",
    "# e.g. 'babble' yields 'ba**le'\n",
    "# Assume that the string is length 1 or more.\n",
    "# Hint: s.replace(stra, strb) returns a version of string s\n",
    "# where all instances of stra have been replaced by strb.\n",
    "def fix_start(s):\n",
    "    p = s.replace(s[2:-2],len(s[2:-2])*\"*\")\n",
    "    return p"
   ]
  },
  {
   "cell_type": "code",
   "execution_count": 82,
   "id": "f99f77ab",
   "metadata": {},
   "outputs": [
    {
     "data": {
      "text/plain": [
       "'ba****le'"
      ]
     },
     "execution_count": 82,
     "metadata": {},
     "output_type": "execute_result"
    }
   ],
   "source": [
    "fix_start(\"bataille\")"
   ]
  },
  {
   "cell_type": "code",
   "execution_count": 85,
   "id": "86764161",
   "metadata": {},
   "outputs": [],
   "source": [
    "def fix_start(s):\n",
    "    front = s[0]\n",
    "    back = s[1:]\n",
    "    fixed_back = back.replace(front, '*')\n",
    "    return front + fixed_back"
   ]
  },
  {
   "cell_type": "code",
   "execution_count": 86,
   "id": "71e87ecc",
   "metadata": {
    "collapsed": true
   },
   "outputs": [
    {
     "data": {
      "text/plain": [
       "'bataille'"
      ]
     },
     "execution_count": 86,
     "metadata": {},
     "output_type": "execute_result"
    }
   ],
   "source": [
    "fix_start(\"bataille\")"
   ]
  },
  {
   "cell_type": "code",
   "execution_count": 110,
   "id": "4733b33a",
   "metadata": {},
   "outputs": [],
   "source": [
    "# D. MixUp\n",
    "# Given strings a and b, return a single string with a and b separated\n",
    "# by a space '<a> <b>', except swap the first 2 chars of each string.\n",
    "# e.g.\n",
    "#   'mix', pod' -> 'pox mid'\n",
    "#   'dog', 'dinner' -> 'dig donner'\n",
    "# Assume a and b are length 2 or more.\n",
    "def mix_up(a, b):\n",
    "    ab = [b[:2]+a[2:],a[:2]+b[2:]]\n",
    "    return \" \".join(ab)"
   ]
  },
  {
   "cell_type": "code",
   "execution_count": 108,
   "id": "c59fa9f3",
   "metadata": {},
   "outputs": [
    {
     "data": {
      "text/plain": [
       "'mid'"
      ]
     },
     "execution_count": 108,
     "metadata": {},
     "output_type": "execute_result"
    }
   ],
   "source": [
    "a=\"mix\"\n",
    "b=\"pod\"\n",
    "b[:2]+a[2:]\n",
    "a[:2]+b[2:]\n"
   ]
  },
  {
   "cell_type": "code",
   "execution_count": 103,
   "id": "61737bed",
   "metadata": {},
   "outputs": [],
   "source": [
    "# joining strings\n",
    "ab = [a,b]\n",
    "\" \".join(ab)"
   ]
  },
  {
   "cell_type": "code",
   "execution_count": 111,
   "id": "4c362e18",
   "metadata": {},
   "outputs": [
    {
     "data": {
      "text/plain": [
       "'pox mid'"
      ]
     },
     "execution_count": 111,
     "metadata": {},
     "output_type": "execute_result"
    }
   ],
   "source": [
    "mix_up(\"mix\",\"pod\")"
   ]
  },
  {
   "cell_type": "code",
   "execution_count": 112,
   "id": "c11777b5",
   "metadata": {},
   "outputs": [
    {
     "data": {
      "text/plain": [
       "'kenner dobab'"
      ]
     },
     "execution_count": 112,
     "metadata": {},
     "output_type": "execute_result"
    }
   ],
   "source": [
    "mix_up(\"donner\",\"kebab\")"
   ]
  },
  {
   "cell_type": "code",
   "execution_count": 115,
   "id": "459c8bc2",
   "metadata": {},
   "outputs": [
    {
     "ename": "SyntaxError",
     "evalue": "invalid syntax (1336884130.py, line 8)",
     "output_type": "error",
     "traceback": [
      "\u001b[0;36m  File \u001b[0;32m\"/tmp/ipykernel_4612/1336884130.py\"\u001b[0;36m, line \u001b[0;32m8\u001b[0m\n\u001b[0;31m    print \"%s got: %s expected: %s\" % (prefix, repr(got), repr(expected))\u001b[0m\n\u001b[0m          ^\u001b[0m\n\u001b[0;31mSyntaxError\u001b[0m\u001b[0;31m:\u001b[0m invalid syntax\n"
     ]
    }
   ],
   "source": [
    "# Provided simple test() function used in main() to print\n",
    "# what each function returns vs. what it's supposed to return.\n",
    "def test(got, expected):\n",
    "    if got == expected:\n",
    "        prefix = ' OK '\n",
    "    else:\n",
    "        prefix = '  X '\n",
    "print \"%s got: %s expected: %s\" % (prefix, repr(got), repr(expected))"
   ]
  },
  {
   "cell_type": "code",
   "execution_count": 148,
   "id": "e1220c79",
   "metadata": {},
   "outputs": [],
   "source": [
    "# A. match_ends\n",
    "# Given a list of strings, return the count of the number of\n",
    "# strings where the string length is 2 or more and the first\n",
    "# and last chars of the string are the same.\n",
    "# Note: python does not have a ++ operator, but += works.\n"
   ]
  },
  {
   "cell_type": "code",
   "execution_count": 182,
   "id": "b950fb5a",
   "metadata": {},
   "outputs": [],
   "source": [
    "def match_ends(list_w):\n",
    "    count = 0\n",
    "    for w in list_w:\n",
    "        if len(w) >= 2 and w[0] == w[-1]:\n",
    "            count += 1    \n",
    "    return count"
   ]
  },
  {
   "cell_type": "code",
   "execution_count": 178,
   "id": "d2192629",
   "metadata": {},
   "outputs": [],
   "source": [
    "def match_ends(words):\n",
    "    count = 0\n",
    "    for word in words:\n",
    "        if len(word) >= 2 and word[0] == word[-1]:\n",
    "            count = count + 1\n",
    "    return count"
   ]
  },
  {
   "cell_type": "code",
   "execution_count": 183,
   "id": "024a8f90",
   "metadata": {},
   "outputs": [
    {
     "data": {
      "text/plain": [
       "2"
      ]
     },
     "execution_count": 183,
     "metadata": {},
     "output_type": "execute_result"
    }
   ],
   "source": [
    "match_ends([\"ecole\",\"college\",\"lycee\",\"abba\"])"
   ]
  },
  {
   "cell_type": "code",
   "execution_count": null,
   "id": "a9dc9211",
   "metadata": {},
   "outputs": [],
   "source": [
    "def match_ends(words):\n",
    "    l = []\n",
    "    for i in range(len(l)):\n",
    "        pass\n",
    "        if (len(l[i])>=2 and l[i][:1]==l[i][-1:]):\n",
    "            print(len(l[i]))"
   ]
  },
  {
   "cell_type": "code",
   "execution_count": 185,
   "id": "bbe96fe8",
   "metadata": {},
   "outputs": [],
   "source": [
    "# B. front_x\n",
    "# Given a list of strings, return a list with the strings\n",
    "# in sorted order, except group all the strings that begin with 'x' first.\n",
    "# e.g. ['mix', 'xyz', 'apple', 'xanadu', 'aardvark'] yields\n",
    "# ['xanadu', 'xyz', 'aardvark', 'apple', 'mix']\n",
    "# Hint: this can be done by making 2 lists and sorting each of them\n",
    "# before combining them."
   ]
  },
  {
   "cell_type": "code",
   "execution_count": 211,
   "id": "9df1edfe",
   "metadata": {},
   "outputs": [],
   "source": [
    "def front_x(l_w):\n",
    "    l = []\n",
    "    a_l = []\n",
    "    for w in l_w:\n",
    "        if w.startswith('x'):\n",
    "            l.append(w)\n",
    "        else:\n",
    "            a_l.append(w)\n",
    "    return sorted(l) + sorted(a_l)    "
   ]
  },
  {
   "cell_type": "code",
   "execution_count": 212,
   "id": "e5f35f8f",
   "metadata": {},
   "outputs": [
    {
     "data": {
      "text/plain": [
       "['xac', 'xde', 'xpc', 'abba', 'college', 'ecole', 'lycee']"
      ]
     },
     "execution_count": 212,
     "metadata": {},
     "output_type": "execute_result"
    }
   ],
   "source": [
    "front_x([\"ecole\",\"college\",\"lycee\",\"abba\",\"xac\",\"xpc\",\"xde\"])"
   ]
  },
  {
   "cell_type": "code",
   "execution_count": 200,
   "id": "a5fb1c71",
   "metadata": {},
   "outputs": [
    {
     "data": {
      "text/plain": [
       "[1, 4, 9, 16]"
      ]
     },
     "execution_count": 200,
     "metadata": {},
     "output_type": "execute_result"
    }
   ],
   "source": [
    "def quad_list(ll):\n",
    "    result= []\n",
    "    for x in ll:\n",
    "        result.append(x**2)\n",
    "    return result\n",
    "\n",
    "quad_list(range(1,5))"
   ]
  },
  {
   "cell_type": "code",
   "execution_count": null,
   "id": "6a65e868",
   "metadata": {},
   "outputs": [],
   "source": [
    "# C. sort_last\n",
    "# Given a list of non-empty tuples, return a list sorted in increasing\n",
    "# order by the last element in each tuple.\n",
    "# e.g. [(1, 7), (1, 3), (3, 4, 5), (2, 2)] yields\n",
    "# [(2, 2), (1, 3), (3, 4, 5), (1, 7)]\n",
    "# Hint: use a custom key= function to extract the last element form each tuple.\n",
    "def sort_last(tuples):\n",
    "  # +++your code here+++\n",
    "  return"
   ]
  },
  {
   "cell_type": "code",
   "execution_count": 213,
   "id": "eec24d15",
   "metadata": {},
   "outputs": [],
   "source": [
    "l=[(1, 7), (1, 3), (3, 4, 5), (2, 2)]"
   ]
  },
  {
   "cell_type": "code",
   "execution_count": 214,
   "id": "998e8840",
   "metadata": {},
   "outputs": [
    {
     "name": "stdout",
     "output_type": "stream",
     "text": [
      "<class 'list'>\n"
     ]
    }
   ],
   "source": [
    "print(type(l))"
   ]
  },
  {
   "cell_type": "code",
   "execution_count": 217,
   "id": "b521b152",
   "metadata": {},
   "outputs": [],
   "source": [
    "def last(a):\n",
    "    return a[-1]\n",
    "def sort_last(tuples):\n",
    "    return sorted(tuples, key=last)"
   ]
  },
  {
   "cell_type": "code",
   "execution_count": 215,
   "id": "20046aaa",
   "metadata": {},
   "outputs": [],
   "source": [
    "a=[(1, 7), (1, 3), (3, 4, 5), (2, 2)]"
   ]
  },
  {
   "cell_type": "code",
   "execution_count": 218,
   "id": "d72e2697",
   "metadata": {},
   "outputs": [
    {
     "data": {
      "text/plain": [
       "(2, 2)"
      ]
     },
     "execution_count": 218,
     "metadata": {},
     "output_type": "execute_result"
    }
   ],
   "source": [
    "last(a)"
   ]
  },
  {
   "cell_type": "code",
   "execution_count": 219,
   "id": "d605e33b",
   "metadata": {
    "scrolled": true
   },
   "outputs": [
    {
     "data": {
      "text/plain": [
       "[(2, 2), (1, 3), (3, 4, 5), (1, 7)]"
      ]
     },
     "execution_count": 219,
     "metadata": {},
     "output_type": "execute_result"
    }
   ],
   "source": [
    "sort_last(a)"
   ]
  },
  {
   "cell_type": "code",
   "execution_count": null,
   "id": "d6c6e358",
   "metadata": {},
   "outputs": [],
   "source": [
    "# https://stackoverflow.com/questions/34752610/how-does-key-function-in-sortedtuple-key-function-work"
   ]
  },
  {
   "cell_type": "code",
   "execution_count": 226,
   "id": "5b1ca570",
   "metadata": {},
   "outputs": [],
   "source": [
    "import sys\n",
    "def print_words(filename):\n",
    "    \"\"\"Prints one per line '<word> <count>' sorted by word for the given file.\"\"\"\n",
    "    word_count = word_count_dict(filename)\n",
    "    words = sorted(word_count.keys())\n",
    "    for word in words:\n",
    "        print(word, word_count[word])"
   ]
  },
  {
   "cell_type": "code",
   "execution_count": 227,
   "id": "f4508608",
   "metadata": {},
   "outputs": [
    {
     "ename": "NameError",
     "evalue": "name 'word_count' is not defined",
     "output_type": "error",
     "traceback": [
      "\u001b[0;31m---------------------------------------------------------------------------\u001b[0m",
      "\u001b[0;31mNameError\u001b[0m                                 Traceback (most recent call last)",
      "\u001b[0;32m/tmp/ipykernel_4612/3031147723.py\u001b[0m in \u001b[0;36m<module>\u001b[0;34m\u001b[0m\n\u001b[0;32m----> 1\u001b[0;31m \u001b[0mprint_words\u001b[0m\u001b[0;34m(\u001b[0m\u001b[0;34m\"ecole\"\u001b[0m\u001b[0;34m,\u001b[0m\u001b[0mword_count\u001b[0m\u001b[0;34m[\u001b[0m\u001b[0;34m\"ecole\"\u001b[0m\u001b[0;34m]\u001b[0m\u001b[0;34m)\u001b[0m\u001b[0;34m\u001b[0m\u001b[0;34m\u001b[0m\u001b[0m\n\u001b[0m",
      "\u001b[0;31mNameError\u001b[0m: name 'word_count' is not defined"
     ]
    }
   ],
   "source": [
    "print_words(\"ecole\",word_count[\"ecole\"])"
   ]
  },
  {
   "cell_type": "code",
   "execution_count": 228,
   "id": "074b7753",
   "metadata": {
    "scrolled": true
   },
   "outputs": [
    {
     "ename": "SyntaxError",
     "evalue": "invalid syntax (3687582878.py, line 1)",
     "output_type": "error",
     "traceback": [
      "\u001b[0;36m  File \u001b[0;32m\"/tmp/ipykernel_4612/3687582878.py\"\u001b[0;36m, line \u001b[0;32m1\u001b[0m\n\u001b[0;31m    print_words(/media/willy/1378-161E/FORMATION_TELECOM_PARIS/5_cours/P1/7_INFMDI721_kit_BGD/INFMDI721_tp_projet/list1_WTK.py)\u001b[0m\n\u001b[0m                ^\u001b[0m\n\u001b[0;31mSyntaxError\u001b[0m\u001b[0;31m:\u001b[0m invalid syntax\n"
     ]
    }
   ],
   "source": [
    "print_words(/media/willy/1378-161E/FORMATION_TELECOM_PARIS/5_cours/P1/7_INFMDI721_kit_BGD/INFMDI721_tp_projet/list1_WTK.py)"
   ]
  },
  {
   "cell_type": "code",
   "execution_count": null,
   "id": "88a8fdae",
   "metadata": {},
   "outputs": [],
   "source": []
  }
 ],
 "metadata": {
  "kernelspec": {
   "display_name": "Python 3 (ipykernel)",
   "language": "python",
   "name": "python3"
  },
  "language_info": {
   "codemirror_mode": {
    "name": "ipython",
    "version": 3
   },
   "file_extension": ".py",
   "mimetype": "text/x-python",
   "name": "python",
   "nbconvert_exporter": "python",
   "pygments_lexer": "ipython3",
   "version": "3.9.6"
  }
 },
 "nbformat": 4,
 "nbformat_minor": 5
}
